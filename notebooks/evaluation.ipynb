{
 "cells": [
  {
   "cell_type": "code",
   "execution_count": 7,
   "id": "c572e967",
   "metadata": {},
   "outputs": [],
   "source": [
    "from sklearn import metrics"
   ]
  },
  {
   "cell_type": "code",
   "execution_count": 1,
   "id": "a51f4e8d",
   "metadata": {},
   "outputs": [],
   "source": [
    "class evaluator():\n",
    "    \n",
    "    def __init__():\n",
    "        \n",
    "        funcs = [\n",
    "            metrics.max_error,\n",
    "            metrics.mean_absolute_error,\n",
    "            metrics.mean_squared_error,\n",
    "            metrics.root_mean_squared_error,\n",
    "            metrics.r2_score\n",
    "        ]\n",
    "        func_names = [\n",
    "            'Max Error',\n",
    "            'Mean Absolute Error',\n",
    "            'Mean Squared Error',\n",
    "            'Root Mean Squared Error',\n",
    "            'R-Squared'\n",
    "        ]\n",
    "        \n",
    "        self.model_metrics = [] # (model, {metric dictionary})\n",
    "        self.model_feature_importances = []\n",
    "        \n",
    "        self.metric_list = list(zip(func_names, funcs))\n",
    "        \n",
    "    \n",
    "    def evaluate(model, X, y, message=\"Test\",return_type=\"R-Squared\"):\n",
    "        \n",
    "        '''\n",
    "        y_true, y_pred\n",
    "        model must be fitted\n",
    "        '''\n",
    "        \n",
    "        model_metrics = {}\n",
    "        \n",
    "        print(f\"Evaluation for ({message})\")\n",
    "        print(\"----------------------------\")\n",
    "        y_pred = model.predict(X)\n",
    "        for metric_name, metric_function in self.metric_list:\n",
    "            \n",
    "            score = metric_function(X, y)\n",
    "            model_metrics[metric_name] = score\n",
    "            print(f\"{metric_name}: {score}\")\n",
    "            \n",
    "        \n",
    "            if metric_name == return_type:\n",
    "                return_val = score\n",
    "        \n",
    "            \n",
    "        print(\"----------------------------\")\n",
    "        \n",
    "        return model_metrics\n",
    "    \n",
    "    def feature_importances(model, columns):\n",
    "        feature_importance_list = []\n",
    "        print(f\"Feature Importances for {model}\")\n",
    "        print(\"----------------------------\")\n",
    "        for name, imp in sorted(zip(x_cols, model.feature_importances_), key=lambda x:x[1], reverse=True):\n",
    "            print(f\"{name}: {imp}\")\n",
    "            feature_importance_list.append((name, imp))\n",
    "        print(\"----------------------------\")\n",
    "        self.model_feature_importances.append((model, feature_importance_list))\n",
    "        \n",
    "        \n",
    "        "
   ]
  },
  {
   "cell_type": "code",
   "execution_count": null,
   "id": "bf7ab93c",
   "metadata": {},
   "outputs": [],
   "source": []
  },
  {
   "cell_type": "code",
   "execution_count": null,
   "id": "252ba10c",
   "metadata": {},
   "outputs": [],
   "source": []
  }
 ],
 "metadata": {
  "kernelspec": {
   "display_name": "Python 3.11.4 64-bit",
   "language": "python",
   "name": "python311464bite1aa5c644b2742129c11b7b19df59d26"
  },
  "language_info": {
   "codemirror_mode": {
    "name": "ipython",
    "version": 3
   },
   "file_extension": ".py",
   "mimetype": "text/x-python",
   "name": "python",
   "nbconvert_exporter": "python",
   "pygments_lexer": "ipython3",
   "version": "3.11.4"
  }
 },
 "nbformat": 4,
 "nbformat_minor": 5
}
